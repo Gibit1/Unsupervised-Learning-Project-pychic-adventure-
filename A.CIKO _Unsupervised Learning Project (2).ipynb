{
 "cells": [
  {
   "cell_type": "markdown",
   "id": "7ad4730e-f483-4bf8-a4b4-4f0684e4f923",
   "metadata": {},
   "source": [
    "## AKONA CIKO _Unsupervised Learning Project"
   ]
  },
  {
   "cell_type": "markdown",
   "id": "a0d89267-360d-44e8-96c3-7a99c0aa51c3",
   "metadata": {},
   "source": [
    "### Table of content"
   ]
  },
  {
   "cell_type": "markdown",
   "id": "c6459763-948a-4382-b857-0326278bbbb1",
   "metadata": {},
   "source": [
    "1. Project Overview\n",
    "3. Dataset details\n",
    "4. Packages & Libraries\n",
    "5. Data collection & loading\n",
    "6. Data Pre-processsing & Processing\n",
    "7. Model training\n",
    "8. Model deployment\n",
    "9. Monitor model\n",
    "10. Project Manager / Contributor"
   ]
  },
  {
   "cell_type": "markdown",
   "id": "6b7cc385-3522-47f6-ae6f-e75bee915f1c",
   "metadata": {},
   "source": [
    "#### 1. Project Overview:"
   ]
  },
  {
   "cell_type": "markdown",
   "id": "9f0ca11a-5a4e-4945-8c5b-1a09795d56b1",
   "metadata": {},
   "source": [
    "Key objectives_\n",
    "\n",
    "1. Build a recommendation system using Collaborative Filtering (CF) and Content-Based Filtering (CBF).\n",
    "3. Accurately predict ratings for unseen anime titles.\n",
    "4. Develop a model that can be deployed in a production environment.\n",
    "5. Implement data pre-processing to clean and prepare the data for training.\n",
    "6. Develop a model that can be deployed in a production environment.\n",
    "7. Monitor the system's performance after deployment and make updates as necessary."
   ]
  },
  {
   "cell_type": "markdown",
   "id": "0d75980e-be8f-4c07-b211-22187e937995",
   "metadata": {},
   "source": [
    "Performing an initial review of my collected data for completeness and relevance involves systematically examining the dataset to ensure it is suitable for my Project & ensure it is the correct dataset.\n",
    "\n",
    "This project focuses on building a collaborative and content-based recommender system for anime titles. The goal is to predict how a user will rate an anime they haven’t yet seen, based on both their historical preferences and the content (such as genre, description, etc.) of the anime itself."
   ]
  },
  {
   "cell_type": "markdown",
   "id": "2cbc2e4c-3d45-40a1-948a-67cc8ffa0de8",
   "metadata": {},
   "source": [
    "#### 2. Dataset details:"
   ]
  },
  {
   "cell_type": "markdown",
   "id": "d19ab18e-42b9-4e6d-ba26-0096127e7056",
   "metadata": {},
   "source": [
    "For this project, the dataset is titled \"Anime-dataset-2023\". The data consists of user ratings and metadata about anime titles. Here's a breakdown of the data fields:\n",
    "\n",
    "User Ratings:\n",
    "User ID: A unique identifier for each user.\n",
    "Anime ID: A unique identifier for each anime.\n",
    "Rating: The score a user has given to an anime (1-10 scale, or possibly a 0-5 scale).\n",
    "Timestamp: The time at which the rating was given.\n",
    "Anime Metadata:\n",
    "Anime ID: Unique identifier for each anime.\n",
    "Title: Name of the anime.\n",
    "Genres: List of genres the anime falls under (e.g., action, comedy, drama).\n",
    "Description: A short summary of the anime's plot.\n",
    "Year: The year the anime was released.\n",
    "Type: Type of anime (e.g., TV series, movie, OVA).\n",
    "Episodes: Number of episodes in the series."
   ]
  },
  {
   "cell_type": "markdown",
   "id": "39d5eb53-483b-4602-b1e1-55df6724090c",
   "metadata": {},
   "source": [
    "#### 3. Packages & Libraries:"
   ]
  },
  {
   "cell_type": "markdown",
   "id": "c891e709-8ec2-484b-801f-aabefd1735a0",
   "metadata": {},
   "source": [
    "Packges & Libraries to Use_\n",
    "\n",
    "I will need a set of libraries for this project, including those for data processing, machine learning, and model evaluation.\n",
    "\n",
    "Required Packages:\n",
    "\n",
    "1. pandas: For data manipulation and analysis.\n",
    "2. numpy: For numerical operations.\n",
    "3. scikit-learn: For machine learning algorithms and metrics.\n",
    "4. surprise: A Python library for building recommender systems.\n",
    "5. ensorflow or pytorch: For deep learning models, if needed.\n",
    "6. matplotlib and seaborn: For data visualization.\n",
    "7. flask or fastAPI: For model deployment."
   ]
  },
  {
   "cell_type": "markdown",
   "id": "fa15e920-41ee-463e-99a1-22a98e8666c5",
   "metadata": {},
   "source": [
    "#### 4. Data collection & loading: "
   ]
  },
  {
   "cell_type": "markdown",
   "id": "9181ac51-e097-4405-a9bf-1acef324f831",
   "metadata": {},
   "source": [
    "Data Sources:\n",
    "\n",
    "Collect data from available anime rating datasets, such as MyAnimeList or Kaggle Anime Datasets.\n",
    "For anime metadata, scrape websites like AniList, Kitsu, or use official APIs from anime databases.\n",
    "Data Loading:\n",
    "\n",
    "Will pandas to load the dataset from CSV, JSON, or directly from databases."
   ]
  },
  {
   "cell_type": "code",
   "execution_count": 4,
   "id": "89b395b0-407e-432a-9de3-c5aba6c90bf7",
   "metadata": {
    "scrolled": true
   },
   "outputs": [
    {
     "ename": "FileNotFoundError",
     "evalue": "[Errno 2] No such file or directory: 'C:\\\\Users\\\\F8871503\\\\OneDrive - FRG\\\\Documents\\\\Explore_AI Data_Science\\\\Unsupervised Learning.csv'",
     "output_type": "error",
     "traceback": [
      "\u001b[1;31m---------------------------------------------------------------------------\u001b[0m",
      "\u001b[1;31mFileNotFoundError\u001b[0m                         Traceback (most recent call last)",
      "Cell \u001b[1;32mIn[4], line 2\u001b[0m\n\u001b[0;32m      1\u001b[0m \u001b[38;5;28;01mimport\u001b[39;00m \u001b[38;5;21;01mpandas\u001b[39;00m \u001b[38;5;28;01mas\u001b[39;00m \u001b[38;5;21;01mpd\u001b[39;00m\n\u001b[1;32m----> 2\u001b[0m anime_metadata \u001b[38;5;241m=\u001b[39m pd\u001b[38;5;241m.\u001b[39mread_csv(\u001b[38;5;124mr\u001b[39m\u001b[38;5;124m'\u001b[39m\u001b[38;5;124mC:\u001b[39m\u001b[38;5;124m\\\u001b[39m\u001b[38;5;124mUsers\u001b[39m\u001b[38;5;124m\\\u001b[39m\u001b[38;5;124mF8871503\u001b[39m\u001b[38;5;124m\\\u001b[39m\u001b[38;5;124mOneDrive - FRG\u001b[39m\u001b[38;5;124m\\\u001b[39m\u001b[38;5;124mDocuments\u001b[39m\u001b[38;5;124m\\\u001b[39m\u001b[38;5;124mExplore_AI Data_Science\u001b[39m\u001b[38;5;124m\\\u001b[39m\u001b[38;5;124mUnsupervised Learning.csv\u001b[39m\u001b[38;5;124m'\u001b[39m)\n",
      "File \u001b[1;32m~\\ProgramData\\Local\\anaconda3\\Lib\\site-packages\\pandas\\io\\parsers\\readers.py:948\u001b[0m, in \u001b[0;36mread_csv\u001b[1;34m(filepath_or_buffer, sep, delimiter, header, names, index_col, usecols, dtype, engine, converters, true_values, false_values, skipinitialspace, skiprows, skipfooter, nrows, na_values, keep_default_na, na_filter, verbose, skip_blank_lines, parse_dates, infer_datetime_format, keep_date_col, date_parser, date_format, dayfirst, cache_dates, iterator, chunksize, compression, thousands, decimal, lineterminator, quotechar, quoting, doublequote, escapechar, comment, encoding, encoding_errors, dialect, on_bad_lines, delim_whitespace, low_memory, memory_map, float_precision, storage_options, dtype_backend)\u001b[0m\n\u001b[0;32m    935\u001b[0m kwds_defaults \u001b[38;5;241m=\u001b[39m _refine_defaults_read(\n\u001b[0;32m    936\u001b[0m     dialect,\n\u001b[0;32m    937\u001b[0m     delimiter,\n\u001b[1;32m   (...)\u001b[0m\n\u001b[0;32m    944\u001b[0m     dtype_backend\u001b[38;5;241m=\u001b[39mdtype_backend,\n\u001b[0;32m    945\u001b[0m )\n\u001b[0;32m    946\u001b[0m kwds\u001b[38;5;241m.\u001b[39mupdate(kwds_defaults)\n\u001b[1;32m--> 948\u001b[0m \u001b[38;5;28;01mreturn\u001b[39;00m _read(filepath_or_buffer, kwds)\n",
      "File \u001b[1;32m~\\ProgramData\\Local\\anaconda3\\Lib\\site-packages\\pandas\\io\\parsers\\readers.py:611\u001b[0m, in \u001b[0;36m_read\u001b[1;34m(filepath_or_buffer, kwds)\u001b[0m\n\u001b[0;32m    608\u001b[0m _validate_names(kwds\u001b[38;5;241m.\u001b[39mget(\u001b[38;5;124m\"\u001b[39m\u001b[38;5;124mnames\u001b[39m\u001b[38;5;124m\"\u001b[39m, \u001b[38;5;28;01mNone\u001b[39;00m))\n\u001b[0;32m    610\u001b[0m \u001b[38;5;66;03m# Create the parser.\u001b[39;00m\n\u001b[1;32m--> 611\u001b[0m parser \u001b[38;5;241m=\u001b[39m TextFileReader(filepath_or_buffer, \u001b[38;5;241m*\u001b[39m\u001b[38;5;241m*\u001b[39mkwds)\n\u001b[0;32m    613\u001b[0m \u001b[38;5;28;01mif\u001b[39;00m chunksize \u001b[38;5;129;01mor\u001b[39;00m iterator:\n\u001b[0;32m    614\u001b[0m     \u001b[38;5;28;01mreturn\u001b[39;00m parser\n",
      "File \u001b[1;32m~\\ProgramData\\Local\\anaconda3\\Lib\\site-packages\\pandas\\io\\parsers\\readers.py:1448\u001b[0m, in \u001b[0;36mTextFileReader.__init__\u001b[1;34m(self, f, engine, **kwds)\u001b[0m\n\u001b[0;32m   1445\u001b[0m     \u001b[38;5;28mself\u001b[39m\u001b[38;5;241m.\u001b[39moptions[\u001b[38;5;124m\"\u001b[39m\u001b[38;5;124mhas_index_names\u001b[39m\u001b[38;5;124m\"\u001b[39m] \u001b[38;5;241m=\u001b[39m kwds[\u001b[38;5;124m\"\u001b[39m\u001b[38;5;124mhas_index_names\u001b[39m\u001b[38;5;124m\"\u001b[39m]\n\u001b[0;32m   1447\u001b[0m \u001b[38;5;28mself\u001b[39m\u001b[38;5;241m.\u001b[39mhandles: IOHandles \u001b[38;5;241m|\u001b[39m \u001b[38;5;28;01mNone\u001b[39;00m \u001b[38;5;241m=\u001b[39m \u001b[38;5;28;01mNone\u001b[39;00m\n\u001b[1;32m-> 1448\u001b[0m \u001b[38;5;28mself\u001b[39m\u001b[38;5;241m.\u001b[39m_engine \u001b[38;5;241m=\u001b[39m \u001b[38;5;28mself\u001b[39m\u001b[38;5;241m.\u001b[39m_make_engine(f, \u001b[38;5;28mself\u001b[39m\u001b[38;5;241m.\u001b[39mengine)\n",
      "File \u001b[1;32m~\\ProgramData\\Local\\anaconda3\\Lib\\site-packages\\pandas\\io\\parsers\\readers.py:1705\u001b[0m, in \u001b[0;36mTextFileReader._make_engine\u001b[1;34m(self, f, engine)\u001b[0m\n\u001b[0;32m   1703\u001b[0m     \u001b[38;5;28;01mif\u001b[39;00m \u001b[38;5;124m\"\u001b[39m\u001b[38;5;124mb\u001b[39m\u001b[38;5;124m\"\u001b[39m \u001b[38;5;129;01mnot\u001b[39;00m \u001b[38;5;129;01min\u001b[39;00m mode:\n\u001b[0;32m   1704\u001b[0m         mode \u001b[38;5;241m+\u001b[39m\u001b[38;5;241m=\u001b[39m \u001b[38;5;124m\"\u001b[39m\u001b[38;5;124mb\u001b[39m\u001b[38;5;124m\"\u001b[39m\n\u001b[1;32m-> 1705\u001b[0m \u001b[38;5;28mself\u001b[39m\u001b[38;5;241m.\u001b[39mhandles \u001b[38;5;241m=\u001b[39m get_handle(\n\u001b[0;32m   1706\u001b[0m     f,\n\u001b[0;32m   1707\u001b[0m     mode,\n\u001b[0;32m   1708\u001b[0m     encoding\u001b[38;5;241m=\u001b[39m\u001b[38;5;28mself\u001b[39m\u001b[38;5;241m.\u001b[39moptions\u001b[38;5;241m.\u001b[39mget(\u001b[38;5;124m\"\u001b[39m\u001b[38;5;124mencoding\u001b[39m\u001b[38;5;124m\"\u001b[39m, \u001b[38;5;28;01mNone\u001b[39;00m),\n\u001b[0;32m   1709\u001b[0m     compression\u001b[38;5;241m=\u001b[39m\u001b[38;5;28mself\u001b[39m\u001b[38;5;241m.\u001b[39moptions\u001b[38;5;241m.\u001b[39mget(\u001b[38;5;124m\"\u001b[39m\u001b[38;5;124mcompression\u001b[39m\u001b[38;5;124m\"\u001b[39m, \u001b[38;5;28;01mNone\u001b[39;00m),\n\u001b[0;32m   1710\u001b[0m     memory_map\u001b[38;5;241m=\u001b[39m\u001b[38;5;28mself\u001b[39m\u001b[38;5;241m.\u001b[39moptions\u001b[38;5;241m.\u001b[39mget(\u001b[38;5;124m\"\u001b[39m\u001b[38;5;124mmemory_map\u001b[39m\u001b[38;5;124m\"\u001b[39m, \u001b[38;5;28;01mFalse\u001b[39;00m),\n\u001b[0;32m   1711\u001b[0m     is_text\u001b[38;5;241m=\u001b[39mis_text,\n\u001b[0;32m   1712\u001b[0m     errors\u001b[38;5;241m=\u001b[39m\u001b[38;5;28mself\u001b[39m\u001b[38;5;241m.\u001b[39moptions\u001b[38;5;241m.\u001b[39mget(\u001b[38;5;124m\"\u001b[39m\u001b[38;5;124mencoding_errors\u001b[39m\u001b[38;5;124m\"\u001b[39m, \u001b[38;5;124m\"\u001b[39m\u001b[38;5;124mstrict\u001b[39m\u001b[38;5;124m\"\u001b[39m),\n\u001b[0;32m   1713\u001b[0m     storage_options\u001b[38;5;241m=\u001b[39m\u001b[38;5;28mself\u001b[39m\u001b[38;5;241m.\u001b[39moptions\u001b[38;5;241m.\u001b[39mget(\u001b[38;5;124m\"\u001b[39m\u001b[38;5;124mstorage_options\u001b[39m\u001b[38;5;124m\"\u001b[39m, \u001b[38;5;28;01mNone\u001b[39;00m),\n\u001b[0;32m   1714\u001b[0m )\n\u001b[0;32m   1715\u001b[0m \u001b[38;5;28;01massert\u001b[39;00m \u001b[38;5;28mself\u001b[39m\u001b[38;5;241m.\u001b[39mhandles \u001b[38;5;129;01mis\u001b[39;00m \u001b[38;5;129;01mnot\u001b[39;00m \u001b[38;5;28;01mNone\u001b[39;00m\n\u001b[0;32m   1716\u001b[0m f \u001b[38;5;241m=\u001b[39m \u001b[38;5;28mself\u001b[39m\u001b[38;5;241m.\u001b[39mhandles\u001b[38;5;241m.\u001b[39mhandle\n",
      "File \u001b[1;32m~\\ProgramData\\Local\\anaconda3\\Lib\\site-packages\\pandas\\io\\common.py:863\u001b[0m, in \u001b[0;36mget_handle\u001b[1;34m(path_or_buf, mode, encoding, compression, memory_map, is_text, errors, storage_options)\u001b[0m\n\u001b[0;32m    858\u001b[0m \u001b[38;5;28;01melif\u001b[39;00m \u001b[38;5;28misinstance\u001b[39m(handle, \u001b[38;5;28mstr\u001b[39m):\n\u001b[0;32m    859\u001b[0m     \u001b[38;5;66;03m# Check whether the filename is to be opened in binary mode.\u001b[39;00m\n\u001b[0;32m    860\u001b[0m     \u001b[38;5;66;03m# Binary mode does not support 'encoding' and 'newline'.\u001b[39;00m\n\u001b[0;32m    861\u001b[0m     \u001b[38;5;28;01mif\u001b[39;00m ioargs\u001b[38;5;241m.\u001b[39mencoding \u001b[38;5;129;01mand\u001b[39;00m \u001b[38;5;124m\"\u001b[39m\u001b[38;5;124mb\u001b[39m\u001b[38;5;124m\"\u001b[39m \u001b[38;5;129;01mnot\u001b[39;00m \u001b[38;5;129;01min\u001b[39;00m ioargs\u001b[38;5;241m.\u001b[39mmode:\n\u001b[0;32m    862\u001b[0m         \u001b[38;5;66;03m# Encoding\u001b[39;00m\n\u001b[1;32m--> 863\u001b[0m         handle \u001b[38;5;241m=\u001b[39m \u001b[38;5;28mopen\u001b[39m(\n\u001b[0;32m    864\u001b[0m             handle,\n\u001b[0;32m    865\u001b[0m             ioargs\u001b[38;5;241m.\u001b[39mmode,\n\u001b[0;32m    866\u001b[0m             encoding\u001b[38;5;241m=\u001b[39mioargs\u001b[38;5;241m.\u001b[39mencoding,\n\u001b[0;32m    867\u001b[0m             errors\u001b[38;5;241m=\u001b[39merrors,\n\u001b[0;32m    868\u001b[0m             newline\u001b[38;5;241m=\u001b[39m\u001b[38;5;124m\"\u001b[39m\u001b[38;5;124m\"\u001b[39m,\n\u001b[0;32m    869\u001b[0m         )\n\u001b[0;32m    870\u001b[0m     \u001b[38;5;28;01melse\u001b[39;00m:\n\u001b[0;32m    871\u001b[0m         \u001b[38;5;66;03m# Binary mode\u001b[39;00m\n\u001b[0;32m    872\u001b[0m         handle \u001b[38;5;241m=\u001b[39m \u001b[38;5;28mopen\u001b[39m(handle, ioargs\u001b[38;5;241m.\u001b[39mmode)\n",
      "\u001b[1;31mFileNotFoundError\u001b[0m: [Errno 2] No such file or directory: 'C:\\\\Users\\\\F8871503\\\\OneDrive - FRG\\\\Documents\\\\Explore_AI Data_Science\\\\Unsupervised Learning.csv'"
     ]
    }
   ],
   "source": [
    "import pandas as pd\n",
    "anime_metadata = pd.read_csv(r'C:\\Users\\F8871503\\OneDrive - FRG\\Documents\\Explore_AI Data_Science\\Unsupervised Learning.csv')"
   ]
  },
  {
   "cell_type": "code",
   "execution_count": 6,
   "id": "9cfb39ff-9779-442a-a8b3-8b5b2e1680cc",
   "metadata": {},
   "outputs": [
    {
     "name": "stdout",
     "output_type": "stream",
     "text": [
      "C:\\Users\\F8871503\\Unsupervised Learning\n"
     ]
    }
   ],
   "source": [
    "import os\n",
    "print(os.getcwd())"
   ]
  },
  {
   "cell_type": "code",
   "execution_count": null,
   "id": "417f12fc-de64-493a-99d3-a38bdc6eff03",
   "metadata": {
    "scrolled": true
   },
   "outputs": [],
   "source": [
    "from tkinter import filedialog\n",
    "from tkinter import Tk\n",
    "\n",
    "# Hide the root window\n",
    "root = Tk()\n",
    "root.withdraw()\n",
    "\n",
    "# Open file dialog and get the file path\n",
    "file_path = filedialog.askopenfilename(title=\"anime-dataset-2023\")\n",
    "anime_metadata = pd.read_csv(file_path)"
   ]
  },
  {
   "cell_type": "markdown",
   "id": "a065c8a2-cfd7-48da-b74f-2b8a98f95475",
   "metadata": {},
   "source": [
    "#### 5. Data Pre-processsing & Processing:"
   ]
  },
  {
   "cell_type": "markdown",
   "id": "3212d738-e78a-4318-8d3b-bc017f14cbb6",
   "metadata": {},
   "source": [
    "##### 1. Handling Missing Data:"
   ]
  },
  {
   "cell_type": "markdown",
   "id": "110d345a-0db3-443d-a0a8-375b83b7a718",
   "metadata": {},
   "source": [
    "For user ratings, I willfill missing ratings with mean or median values, or drop them if necessary.\n",
    "For metadata, you may need to fill missing values (e.g., genres, descriptions) with placeholders or use other imputation methods."
   ]
  },
  {
   "cell_type": "code",
   "execution_count": null,
   "id": "b52abda2-be68-4eaa-9dff-9995a9ade670",
   "metadata": {},
   "outputs": [],
   "source": [
    "#Python_codes here !"
   ]
  },
  {
   "cell_type": "markdown",
   "id": "f681a9fe-497d-4f01-8d6f-41a600da8b54",
   "metadata": {},
   "source": [
    "##### 2. Data Transformation:"
   ]
  },
  {
   "cell_type": "markdown",
   "id": "3a121e07-7b02-40e7-a529-ab3c30446131",
   "metadata": {},
   "source": [
    "Text Processing: If using content-based filtering, process anime descriptions by converting them into a numerical format (using TF-IDF or Word2Vec).\n",
    "Genre Encoding: Convert anime genres into a numerical representation using one-hot encoding or label encoding."
   ]
  },
  {
   "cell_type": "code",
   "execution_count": null,
   "id": "26f1e1f3-5397-4b10-9ac7-1b591f9e84a8",
   "metadata": {},
   "outputs": [],
   "source": [
    "#Python_codes here !"
   ]
  },
  {
   "cell_type": "code",
   "execution_count": null,
   "id": "08349a52-1b6b-4c44-88b6-7b3d89c10c42",
   "metadata": {},
   "outputs": [],
   "source": [
    "# from sklearn.preprocessing import OneHotEncoder\n",
    "\n",
    "# Example encoding for anime genres\n",
    "encoder = OneHotEncoder(sparse=False)\n",
    "genre_encoded = encoder.fit_transform(anime_metadata[['genres']])"
   ]
  },
  {
   "cell_type": "markdown",
   "id": "d34da317-77de-43e3-a32f-5f50edb59ce6",
   "metadata": {},
   "source": [
    "##### 3. Feature Engineering:\n"
   ]
  },
  {
   "cell_type": "markdown",
   "id": "69deed46-eba5-4a53-94de-dc15f9c6b5f1",
   "metadata": {},
   "source": [
    "Will Create features such as average rating, number of ratings, and anime release yearm? ///////???///"
   ]
  },
  {
   "cell_type": "code",
   "execution_count": null,
   "id": "5a023032-4508-4bc1-a616-2446e5ae7b7e",
   "metadata": {},
   "outputs": [],
   "source": [
    "#Python_codes here !"
   ]
  },
  {
   "cell_type": "markdown",
   "id": "8e827ecb-0035-43db-be3a-72ca54e0aa88",
   "metadata": {},
   "source": [
    "#### 6. Model training:"
   ]
  },
  {
   "cell_type": "markdown",
   "id": "41d4374d-d527-4991-b8c7-afc6f01b32f1",
   "metadata": {},
   "source": [
    "Matrix Factorization: Use methods like SVD (Singular Value Decomposition) or ALS (Alternating Least Squares) to factorize the user-item rating matrix.\n",
    "Example using Surprise Library for SVD:"
   ]
  },
  {
   "cell_type": "code",
   "execution_count": null,
   "id": "f27bbfab-d50a-46d1-8eed-622643bebabb",
   "metadata": {},
   "outputs": [],
   "source": [
    "from surprise import SVD, Dataset, Reader\n",
    "from surprise.model_selection import train_test_split\n",
    "\n",
    "reader = Reader(rating_scale=(1, 10))  # Assuming ratings are on a scale of 1-10\n",
    "data = Dataset.load_from_df(user_ratings[['user_id', 'anime_id', 'rating']], reader)\n",
    "trainset, testset = train_test_split(data, test_size=0.2)\n",
    "\n",
    "model = SVD()\n",
    "model.fit(trainset)\n",
    "predictions = model.test(testset)"
   ]
  },
  {
   "cell_type": "markdown",
   "id": "da7527c8-a585-495b-97ef-fc202b7c5f1c",
   "metadata": {},
   "source": [
    "Content-Based Filtering (CBF): TF-IDF: Convert the anime descriptions to a term frequency-inverse document frequency (TF-IDF) matrix and use cosine similarity to compute recommendations.\n",
    "Example using TF-IDF for content-based filtering:"
   ]
  },
  {
   "cell_type": "code",
   "execution_count": null,
   "id": "a7c37288-f305-48bf-afc5-ea698a6037e3",
   "metadata": {},
   "outputs": [],
   "source": [
    "from sklearn.feature_extraction.text import TfidfVectorizer\n",
    "from sklearn.metrics.pairwise import cosine_similarity\n",
    "\n",
    "tfidf = TfidfVectorizer(stop_words='english')\n",
    "tfidf_matrix = tfidf.fit_transform(anime_metadata['description'])\n",
    "cosine_sim = cosine_similarity(tfidf_matrix, tfidf_matrix)"
   ]
  },
  {
   "cell_type": "markdown",
   "id": "ad528cc2-61aa-4197-bc58-3d60ca6e5101",
   "metadata": {},
   "source": [
    "Hybrid Model:\n",
    "\n",
    "Combine both CF and CBF for a hybrid recommendation system. Use CF for collaborative recommendations and CBF for content-based suggestions. Blend them based on user preference."
   ]
  },
  {
   "cell_type": "code",
   "execution_count": null,
   "id": "f523d427-c6ca-4609-b9ab-fdea3f34078b",
   "metadata": {},
   "outputs": [],
   "source": [
    "?????? COMBINE CODE"
   ]
  },
  {
   "cell_type": "markdown",
   "id": "6f7f3dcb-5fa6-4ae2-8943-e8e07e091e2a",
   "metadata": {},
   "source": [
    "#### 7. Model deployment:"
   ]
  },
  {
   "cell_type": "markdown",
   "id": "162fde56-3846-4821-aa18-cbb7f7f70509",
   "metadata": {},
   "source": [
    "After training and tuning the model, deploy it to a production environment:"
   ]
  },
  {
   "cell_type": "markdown",
   "id": "e2c5c1d4-7b4c-4e97-bef2-159466daee97",
   "metadata": {},
   "source": [
    "1. Model Serialization:"
   ]
  },
  {
   "cell_type": "code",
   "execution_count": null,
   "id": "6fe6acca-0506-4daf-a412-cbd5f1e14f62",
   "metadata": {},
   "outputs": [],
   "source": [
    "Use pickle or joblib to save the trained model for later use.\n",
    "                                              \n",
    "import joblib\n",
    "joblib.dump(model, 'svd_model.pkl')"
   ]
  },
  {
   "cell_type": "markdown",
   "id": "d40cfffd-ba8b-4145-951f-77c2228bed25",
   "metadata": {},
   "source": [
    "2. API Development:\n",
    "\n",
    "Use Flask or FastAPI to create a REST API that serves recommendations.\n",
    "Example (Flask):"
   ]
  },
  {
   "attachments": {
    "01295852-afe9-4c29-966d-0e47c367321f.png": {
     "image/png": "[encoded data removed]"
    },
    "d1b93cce-9486-4095-832a-2a5a7b8585c1.png": {
     "image/png": "[encoded data removed]"
    },
    "f10dd9e9-6908-4579-8cb9-dd56792221c0.png": {
     "image/png": "[encoded data removed]"
    }
   },
   "cell_type": "markdown",
   "id": "f4d6ca94-7335-48a4-8f01-6f599c21c188",
   "metadata": {},
   "source": [
    "@app.route('/predict', methods=['GET'])\n",
    "\r",
    "def predict():\r",
    "    anime_id = request.args.get('anime_id')\r",
    "    user_id = request.args.get('user_id')\r",
    "    # Make prediction based on the model\r",
    "    prediction = model.predict(user_id, anime_id)\r",
    "    return jsonify({'prediction': prediction.est})\r",
    "\r",
    "if __name__ == '__main__':\r",
    "    app.run(debug=True)![image.png](attachment:f10dd9e9-6908-4579-8cb9-dd56792221c0.png)![image.png](attachment:d1b93cce-9486-4095-832a-2a5a7b8585c1.png)![image.png](attachment:01295852-afe9-4c29-966d-0e47c367321f.png)"
   ]
  },
  {
   "cell_type": "markdown",
   "id": "0fc9bee7-5368-4e45-b499-7e6a8b46fc8a",
   "metadata": {},
   "source": [
    "3. Containerization:\n",
    "\n",
    "Containerize the API using Docker for easy deployment."
   ]
  },
  {
   "cell_type": "markdown",
   "id": "bb8f3e9f-366b-4a42-83ae-7f17eec2cd3c",
   "metadata": {},
   "source": [
    "1. Model Serialization: Use pickle or joblib to save the trained model for later use."
   ]
  },
  {
   "cell_type": "markdown",
   "id": "dba3d155-8feb-437f-ad9b-d83d6a3543f1",
   "metadata": {},
   "source": [
    "#### 8. Monitor model:"
   ]
  },
  {
   "cell_type": "markdown",
   "id": "f7f231ef-871d-4ab8-9de6-09f4bd9f0b13",
   "metadata": {},
   "source": [
    "1. Performance Monitoring: Track metrics such as MAE (Mean Absolute Error), RMSE (Root Mean Square Error), and precision to evaluate the recommender's effectiveness.\n",
    "   \n",
    "2. User Feedback: Collect feedback from users on the quality of recommendations and adjust the model accordingly.\n",
    "   \n",
    "3. Periodic Retraining:\n",
    "Retrain the model periodically with new data to keep it up-to-date and maintain recommendation quality."
   ]
  },
  {
   "cell_type": "markdown",
   "id": "dcc911c6-d89d-4c70-9779-770d7612a6d7",
   "metadata": {},
   "source": [
    "#### Project Manager / Contributor: Akona Ciko | Akonaciko1@gmail.com | Gibit1 (GitHub username)"
   ]
  },
  {
   "cell_type": "markdown",
   "id": "f6fc01e7-c204-43c0-a6fa-2a163e24445f",
   "metadata": {},
   "source": [
    "#### Save:"
   ]
  },
  {
   "cell_type": "code",
   "execution_count": null,
   "id": "404b0843-05f6-4f10-83de-cdbd74f9ce90",
   "metadata": {},
   "outputs": [],
   "source": [
    "anime_metadata.to_csv(\"Processed_dataset_saved_1\"), index=False"
   ]
  },
  {
   "cell_type": "markdown",
   "id": "df88cff7-7b74-421d-8325-9a3172a12fee",
   "metadata": {},
   "source": [
    "#### Note_Could not finish the Project because of FNB restricting access (Laptop) to important features, folders & other key things that I usually utilize."
   ]
  }
 ],
 "metadata": {
  "kernelspec": {
   "display_name": "Python 3 (ipykernel)",
   "language": "python",
   "name": "python3"
  },
  "language_info": {
   "codemirror_mode": {
    "name": "ipython",
    "version": 3
   },
   "file_extension": ".py",
   "mimetype": "text/x-python",
   "name": "python",
   "nbconvert_exporter": "python",
   "pygments_lexer": "ipython3",
   "version": "3.11.7"
  }
 },
 "nbformat": 4,
 "nbformat_minor": 5
}
